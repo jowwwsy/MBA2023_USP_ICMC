{
 "cells": [
  {
   "cell_type": "code",
   "execution_count": 21,
   "metadata": {},
   "outputs": [],
   "source": [
    "import pandas as pd\n",
    "from sklearn.model_selection import train_test_split\n",
    "from sklearn.linear_model import LinearRegression, Ridge,Lasso\n",
    "from sklearn.neighbors import KNeighborsRegressor\n",
    "from sklearn.ensemble import RandomForestRegressor\n",
    "from sklearn.tree import DecisionTreeRegressor\n",
    "from xgboost import XGBRegressor\n",
    "from time import time\n",
    "from sklearn.metrics import explained_variance_score,mean_absolute_error,r2_score"
   ]
  },
  {
   "cell_type": "code",
   "execution_count": 22,
   "metadata": {},
   "outputs": [],
   "source": [
    "df = pd.read_csv('../data/processed/crossfit_db.csv')"
   ]
  },
  {
   "cell_type": "code",
   "execution_count": 23,
   "metadata": {},
   "outputs": [],
   "source": [
    "#removing null values\n",
    "df = df.dropna()"
   ]
  },
  {
   "cell_type": "code",
   "execution_count": 24,
   "metadata": {},
   "outputs": [],
   "source": [
    "# Split train and test\n",
    "drop_features = ['year', 'firstName', 'lastName', 'status', 'gender', 'age', \n",
    "                 'rank_2023_1', 'rank_2023_2', 'rank_2023_3','rank_2023_4',\n",
    "                 'countryOfOriginCode', 'regionId', 'affiliateId', 'affiliateName',\n",
    "                 'competitorName', 'countryOfOriginName', 'regionName' ,\n",
    "                 'overallRank', 'overall_score_2023',\n",
    "                 'score_reps_2023_1', 'score_reps_2023_2','score_reps_2023_3','score_reps_2023_4', 'score_time_2023_4'\n",
    "                 ]\n",
    "\n",
    "\n",
    "X = df.drop(columns=drop_features)\n",
    "y = df[\"overall_score_2023\"]\n",
    "X_train, X_test, y_train, y_test = train_test_split(X, y, test_size=0.3, random_state=42)"
   ]
  },
  {
   "cell_type": "code",
   "execution_count": 25,
   "metadata": {},
   "outputs": [],
   "source": [
    "regressors = [\n",
    "    KNeighborsRegressor(),\n",
    "    RandomForestRegressor(),\n",
    "    DecisionTreeRegressor(),\n",
    "    LinearRegression(),\n",
    "    Lasso(),\n",
    "    Ridge(), \n",
    "    XGBRegressor()\n",
    "]"
   ]
  },
  {
   "cell_type": "code",
   "execution_count": 34,
   "metadata": {},
   "outputs": [
    {
     "name": "stdout",
     "output_type": "stream",
     "text": [
      "KNeighborsRegressor\n",
      "\tTraining time: 0.006s\n",
      "\tPrediction time: 0.062s\n",
      "\tExplained variance: 0.7713839849391946\n",
      "\tMean absolute error: 38108.227179821704\n",
      "\tR2 score: 0.7711262764789721\n",
      "\n",
      "RandomForestRegressor\n",
      "\tTraining time: 8.352s\n",
      "\tPrediction time: 0.075s\n",
      "\tExplained variance: 0.8172584952861128\n",
      "\tMean absolute error: 33268.89480321809\n",
      "\tR2 score: 0.8166853306362989\n",
      "\n",
      "DecisionTreeRegressor\n",
      "\tTraining time: 0.135s\n",
      "\tPrediction time: 0.001s\n",
      "\tExplained variance: 0.6301338764673532\n",
      "\tMean absolute error: 47702.24266144814\n",
      "\tR2 score: 0.6292828277845443\n",
      "\n",
      "LinearRegression\n",
      "\tTraining time: 0.003s\n",
      "\tPrediction time: 0.000s\n",
      "\tExplained variance: 0.8089697301067423\n",
      "\tMean absolute error: 33971.9467152358\n",
      "\tR2 score: 0.8089162698819776\n",
      "\n",
      "Lasso\n",
      "\tTraining time: 0.070s\n",
      "\tPrediction time: 0.002s\n",
      "\tExplained variance: 0.8089698365353585\n",
      "\tMean absolute error: 33971.933344279016\n",
      "\tR2 score: 0.8089163767603156\n",
      "\n",
      "Ridge\n",
      "\tTraining time: 0.008s\n",
      "\tPrediction time: 0.001s\n",
      "\tExplained variance: 0.808969732195349\n",
      "\tMean absolute error: 33971.946541175595\n",
      "\tR2 score: 0.8089162719730817\n",
      "\n",
      "XGBRegressor\n",
      "\tTraining time: 0.378s\n",
      "\tPrediction time: 0.004s\n",
      "\tExplained variance: 0.8031754042737608\n",
      "\tMean absolute error: 34263.88731494347\n",
      "\tR2 score: 0.8030263661098168\n",
      "\n"
     ]
    }
   ],
   "source": [
    "head = 1600\n",
    "for model in regressors[:head]:\n",
    "    start = time()\n",
    "    model.fit(X_train, y_train)\n",
    "    train_time = time() - start\n",
    "    start = time()\n",
    "    y_pred = model.predict(X_test)\n",
    "    predict_time = time()-start    \n",
    "    print(model.__class__.__name__)\n",
    "    print(\"\\tTraining time: %0.3fs\" % train_time)\n",
    "    print(\"\\tPrediction time: %0.3fs\" % predict_time)\n",
    "    print(\"\\tExplained variance:\", explained_variance_score(y_test, y_pred))\n",
    "    print(\"\\tMean absolute error:\", mean_absolute_error(y_test, y_pred))\n",
    "    print(\"\\tR2 score:\", r2_score(y_test, y_pred))\n",
    "    print()"
   ]
  },
  {
   "cell_type": "code",
   "execution_count": null,
   "metadata": {},
   "outputs": [],
   "source": []
  }
 ],
 "metadata": {
  "kernelspec": {
   "display_name": "mba_final",
   "language": "python",
   "name": "python3"
  },
  "language_info": {
   "codemirror_mode": {
    "name": "ipython",
    "version": 3
   },
   "file_extension": ".py",
   "mimetype": "text/x-python",
   "name": "python",
   "nbconvert_exporter": "python",
   "pygments_lexer": "ipython3",
   "version": "3.12.0"
  }
 },
 "nbformat": 4,
 "nbformat_minor": 2
}
